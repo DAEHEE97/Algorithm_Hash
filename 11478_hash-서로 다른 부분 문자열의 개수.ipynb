{
 "cells": [
  {
   "cell_type": "markdown",
   "id": "1bb81bde",
   "metadata": {},
   "source": [
    "-  ababc의 부분 문자열은 a, b, a, b, c, ab, ba, ab, bc, aba, bab, abc, abab, babc, ababc가 있고, 서로 다른것의 개수는 12개\n"
   ]
  },
  {
   "cell_type": "markdown",
   "id": "968de89e",
   "metadata": {},
   "source": [
    "---"
   ]
  },
  {
   "cell_type": "markdown",
   "id": "be69829e",
   "metadata": {},
   "source": [
    "---"
   ]
  },
  {
   "cell_type": "code",
   "execution_count": 43,
   "id": "ee857b23",
   "metadata": {},
   "outputs": [
    {
     "name": "stdout",
     "output_type": "stream",
     "text": [
      "ababc\n",
      "12\n"
     ]
    }
   ],
   "source": [
    "# 한번에 처리, 메모리 ++, 시간 ++ \n",
    "# set 생성 후 처리\n",
    "\n",
    "\n",
    "s = input()\n",
    "\n",
    "sset = set()\n",
    "\n",
    "\n",
    "for i in range(0, len(s)):\n",
    "    \n",
    "    for j in range(1+i, len(s)+1):\n",
    "        \n",
    "        sset.add(s[i:j])\n",
    "\n",
    "print(len(sset))"
   ]
  },
  {
   "cell_type": "markdown",
   "id": "93d2ef5d",
   "metadata": {},
   "source": [
    "---"
   ]
  },
  {
   "cell_type": "code",
   "execution_count": 42,
   "id": "9af27ee2",
   "metadata": {},
   "outputs": [
    {
     "name": "stdout",
     "output_type": "stream",
     "text": [
      "ababc\n",
      "15\n"
     ]
    }
   ],
   "source": [
    "# 같은 범위로 처리, set을 초기화 하면서 처리\n",
    "\n",
    "s = input()\n",
    "\n",
    "ans = 0\n",
    "\n",
    "for i in range( , ):\n",
    "    \n",
    "    sset = set()\n",
    "    \n",
    "    for j in range( , ):\n",
    "        \n",
    "        sset.add(s[i:j])\n",
    "    \n",
    "    ans += len(sset)\n",
    "\n",
    "print(ans)"
   ]
  },
  {
   "cell_type": "markdown",
   "id": "8e1d8efb",
   "metadata": {},
   "source": [
    "---"
   ]
  },
  {
   "cell_type": "code",
   "execution_count": 34,
   "id": "866a0ec3",
   "metadata": {},
   "outputs": [
    {
     "name": "stdout",
     "output_type": "stream",
     "text": [
      "0 1\n",
      "0 2\n",
      "0 3\n",
      "0 4\n",
      "0 5\n",
      "1 2\n",
      "1 3\n",
      "1 4\n",
      "1 5\n",
      "2 3\n",
      "2 4\n",
      "2 5\n",
      "3 4\n",
      "3 5\n",
      "4 5\n"
     ]
    }
   ],
   "source": [
    "for i in range(0, 5):\n",
    "    \n",
    "    for j in range(i+1, 5+1):\n",
    "        \n",
    "        print(i,j)"
   ]
  },
  {
   "cell_type": "markdown",
   "id": "1d657ed2",
   "metadata": {},
   "source": [
    "---"
   ]
  },
  {
   "cell_type": "code",
   "execution_count": null,
   "id": "1fa07719",
   "metadata": {},
   "outputs": [],
   "source": [
    "s = input()\n",
    "result = 0\n",
    "for i in range(len(s)):\n",
    "    temp = set()\n",
    "    for j in range(len(s)-i):\n",
    "        temp.add(s[j:j+i+1])\n",
    "    result += len(temp)\n",
    "print(result)"
   ]
  }
 ],
 "metadata": {
  "kernelspec": {
   "display_name": "Python 3 (ipykernel)",
   "language": "python",
   "name": "python3"
  },
  "language_info": {
   "codemirror_mode": {
    "name": "ipython",
    "version": 3
   },
   "file_extension": ".py",
   "mimetype": "text/x-python",
   "name": "python",
   "nbconvert_exporter": "python",
   "pygments_lexer": "ipython3",
   "version": "3.8.16"
  },
  "toc": {
   "base_numbering": 1,
   "nav_menu": {},
   "number_sections": true,
   "sideBar": true,
   "skip_h1_title": false,
   "title_cell": "Table of Contents",
   "title_sidebar": "Contents",
   "toc_cell": false,
   "toc_position": {},
   "toc_section_display": true,
   "toc_window_display": false
  },
  "varInspector": {
   "cols": {
    "lenName": 16,
    "lenType": 16,
    "lenVar": 40
   },
   "kernels_config": {
    "python": {
     "delete_cmd_postfix": "",
     "delete_cmd_prefix": "del ",
     "library": "var_list.py",
     "varRefreshCmd": "print(var_dic_list())"
    },
    "r": {
     "delete_cmd_postfix": ") ",
     "delete_cmd_prefix": "rm(",
     "library": "var_list.r",
     "varRefreshCmd": "cat(var_dic_list()) "
    }
   },
   "types_to_exclude": [
    "module",
    "function",
    "builtin_function_or_method",
    "instance",
    "_Feature"
   ],
   "window_display": false
  }
 },
 "nbformat": 4,
 "nbformat_minor": 5
}
