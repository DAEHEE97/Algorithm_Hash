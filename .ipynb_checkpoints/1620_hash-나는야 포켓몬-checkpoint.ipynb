{
 "cells": [
  {
   "cell_type": "markdown",
   "id": "14f115f9",
   "metadata": {},
   "source": [
    "- key -> value\n",
    "- value -> key\n",
    "- dict 2개 생성 후 처리"
   ]
  },
  {
   "cell_type": "code",
   "execution_count": null,
   "id": "561a7aaa",
   "metadata": {},
   "outputs": [],
   "source": [
    "from sys import stdin\n",
    "\n",
    "\n",
    "def input():\n",
    "    return stdin.readline().rstrip()\n",
    "\n",
    "\n",
    "N, M = map(int, input().split())\n",
    "\n",
    "dic_1 = dict()\n",
    "\n",
    "dic_2 = dict()\n",
    "\n",
    "for i in range(1, N+1):\n",
    "    \n",
    "    v = input()\n",
    "    \n",
    "    dic_1[i] = v\n",
    "    \n",
    "    dic_2[v] = i\n",
    "    \n",
    "for _ in range(M):\n",
    "    \n",
    "    tmp = input()\n",
    "\n",
    "    \n",
    "    if tmp.isdigit():\n",
    "        \n",
    "        print(dic_1[int(tmp)])\n",
    "        \n",
    "        \n",
    "    else:\n",
    "        print(int(dic_2[tmp]))\n",
    "\n"
   ]
  }
 ],
 "metadata": {
  "kernelspec": {
   "display_name": "Python 3 (ipykernel)",
   "language": "python",
   "name": "python3"
  },
  "language_info": {
   "codemirror_mode": {
    "name": "ipython",
    "version": 3
   },
   "file_extension": ".py",
   "mimetype": "text/x-python",
   "name": "python",
   "nbconvert_exporter": "python",
   "pygments_lexer": "ipython3",
   "version": "3.8.16"
  },
  "toc": {
   "base_numbering": 1,
   "nav_menu": {},
   "number_sections": true,
   "sideBar": true,
   "skip_h1_title": false,
   "title_cell": "Table of Contents",
   "title_sidebar": "Contents",
   "toc_cell": false,
   "toc_position": {},
   "toc_section_display": true,
   "toc_window_display": false
  },
  "varInspector": {
   "cols": {
    "lenName": 16,
    "lenType": 16,
    "lenVar": 40
   },
   "kernels_config": {
    "python": {
     "delete_cmd_postfix": "",
     "delete_cmd_prefix": "del ",
     "library": "var_list.py",
     "varRefreshCmd": "print(var_dic_list())"
    },
    "r": {
     "delete_cmd_postfix": ") ",
     "delete_cmd_prefix": "rm(",
     "library": "var_list.r",
     "varRefreshCmd": "cat(var_dic_list()) "
    }
   },
   "types_to_exclude": [
    "module",
    "function",
    "builtin_function_or_method",
    "instance",
    "_Feature"
   ],
   "window_display": false
  }
 },
 "nbformat": 4,
 "nbformat_minor": 5
}
