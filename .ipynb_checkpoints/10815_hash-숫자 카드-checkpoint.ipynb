{
 "cells": [
  {
   "cell_type": "markdown",
   "id": "ab98bf9d",
   "metadata": {},
   "source": [
    "# 10815_hash-숫자 카드"
   ]
  },
  {
   "cell_type": "markdown",
   "id": "8d0eeb9f",
   "metadata": {},
   "source": [
    "---"
   ]
  },
  {
   "cell_type": "code",
   "execution_count": 7,
   "id": "d8ac8671",
   "metadata": {},
   "outputs": [
    {
     "name": "stdout",
     "output_type": "stream",
     "text": [
      "5\n",
      "6 3 2 10 -10\n",
      "8\n",
      "10 9 -5 2 3 4 5 -10\n"
     ]
    }
   ],
   "source": [
    "N = int(input())\n",
    "N_lst = list(map(int, input().split()))\n",
    "\n",
    "M = int(input())\n",
    "M_lst = list(map(int, input().split()))\n",
    "\n",
    "\n",
    "# N_lst 각 카드 처리\n",
    "dic = dict()\n",
    "\n",
    "for n in N_lst:\n",
    "    if n in dic:\n",
    "        dic[n] += 1\n",
    "    else:\n",
    "        dic[n] = 1\n"
   ]
  },
  {
   "cell_type": "code",
   "execution_count": 8,
   "id": "f74520f5",
   "metadata": {},
   "outputs": [
    {
     "data": {
      "text/plain": [
       "{6: 1, 3: 1, 2: 1, 10: 1, -10: 1}"
      ]
     },
     "execution_count": 8,
     "metadata": {},
     "output_type": "execute_result"
    }
   ],
   "source": [
    "\n",
    "dic"
   ]
  },
  {
   "cell_type": "code",
   "execution_count": 9,
   "id": "84e63500",
   "metadata": {},
   "outputs": [
    {
     "name": "stdout",
     "output_type": "stream",
     "text": [
      "1 0 0 1 1 0 0 1\n"
     ]
    }
   ],
   "source": [
    "ans = []\n",
    "\n",
    "for m in M_lst:\n",
    "    \n",
    "    if m in dic:\n",
    "        ans.append(1)\n",
    "    else:\n",
    "        ans.append(0)\n",
    "        \n",
    "print(*ans)\n",
    "        "
   ]
  },
  {
   "cell_type": "markdown",
   "id": "9dae4c99",
   "metadata": {},
   "source": [
    "---"
   ]
  },
  {
   "cell_type": "code",
   "execution_count": 1,
   "id": "2246e136",
   "metadata": {},
   "outputs": [
    {
     "name": "stdout",
     "output_type": "stream",
     "text": [
      "5\n",
      "6 3 2 10 -10\n",
      "8\n",
      "10 9 -5 2 3 4 5 -10\n",
      "1 0 0 1 1 0 0 1\n"
     ]
    }
   ],
   "source": [
    "N = int(input())\n",
    "lst = list(map(int, input().split()))\n",
    "\n",
    "M = int(input())\n",
    "key = list(map(int, input().split()))\n",
    "\n",
    "dic = {}\n",
    "\n",
    "for k in key:\n",
    "    \n",
    "    dic[k] = 0\n",
    "\n",
    "    \n",
    "for n in lst:\n",
    "    \n",
    "    if n in dic.keys():\n",
    "        dic[n] = 1\n",
    "\n",
    "print(*list(dic.values()))"
   ]
  },
  {
   "cell_type": "markdown",
   "id": "6211fb63",
   "metadata": {},
   "source": [
    "---"
   ]
  },
  {
   "cell_type": "code",
   "execution_count": 2,
   "id": "3d435f59",
   "metadata": {},
   "outputs": [
    {
     "name": "stdout",
     "output_type": "stream",
     "text": [
      "10 1\n",
      "9 0\n",
      "-5 0\n",
      "2 1\n",
      "3 1\n",
      "4 0\n",
      "5 0\n",
      "-10 1\n"
     ]
    }
   ],
   "source": [
    "for k,v in dic.items():\n",
    "    \n",
    "    print(k,v)"
   ]
  }
 ],
 "metadata": {
  "kernelspec": {
   "display_name": "Python 3 (ipykernel)",
   "language": "python",
   "name": "python3"
  },
  "language_info": {
   "codemirror_mode": {
    "name": "ipython",
    "version": 3
   },
   "file_extension": ".py",
   "mimetype": "text/x-python",
   "name": "python",
   "nbconvert_exporter": "python",
   "pygments_lexer": "ipython3",
   "version": "3.8.16"
  },
  "toc": {
   "base_numbering": 1,
   "nav_menu": {},
   "number_sections": true,
   "sideBar": true,
   "skip_h1_title": false,
   "title_cell": "Table of Contents",
   "title_sidebar": "Contents",
   "toc_cell": false,
   "toc_position": {},
   "toc_section_display": true,
   "toc_window_display": false
  },
  "varInspector": {
   "cols": {
    "lenName": 16,
    "lenType": 16,
    "lenVar": 40
   },
   "kernels_config": {
    "python": {
     "delete_cmd_postfix": "",
     "delete_cmd_prefix": "del ",
     "library": "var_list.py",
     "varRefreshCmd": "print(var_dic_list())"
    },
    "r": {
     "delete_cmd_postfix": ") ",
     "delete_cmd_prefix": "rm(",
     "library": "var_list.r",
     "varRefreshCmd": "cat(var_dic_list()) "
    }
   },
   "types_to_exclude": [
    "module",
    "function",
    "builtin_function_or_method",
    "instance",
    "_Feature"
   ],
   "window_display": false
  }
 },
 "nbformat": 4,
 "nbformat_minor": 5
}
