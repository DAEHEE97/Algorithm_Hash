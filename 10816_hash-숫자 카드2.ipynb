{
 "cells": [
  {
   "cell_type": "markdown",
   "id": "44d5b4b3",
   "metadata": {},
   "source": [
    "- 키 중복처리\n",
    "- N_lst 기준으로 처리\n"
   ]
  },
  {
   "cell_type": "code",
   "execution_count": 16,
   "id": "aee9b1e4",
   "metadata": {},
   "outputs": [
    {
     "name": "stdout",
     "output_type": "stream",
     "text": [
      "1\n",
      "1\n",
      "2\n",
      "1 1\n",
      "1 1\n"
     ]
    }
   ],
   "source": [
    "N = int(input())\n",
    "N_lst = list(map(int, input().split()))\n",
    "\n",
    "M = int(input())\n",
    "M_lst = list(map(int, input().split()))\n",
    "\n",
    "\n",
    "# N_lst 각 카드 처리\n",
    "dic = dict()\n",
    "\n",
    "for n in N_lst:\n",
    "    if n in dic:\n",
    "        dic[n] += 1\n",
    "    else:\n",
    "        dic[n] = 1\n",
    "\n",
    "        \n",
    "# M_lst중에서 있는 카드 개수 처리\n",
    "\n",
    "ans = []\n",
    "\n",
    "for m in M_lst:\n",
    "    \n",
    "    if m in dic:\n",
    "        ans.append(dic[m])\n",
    "    else:\n",
    "        ans.append(0)    \n",
    "        \n",
    "print(*ans)\n",
    "        \n",
    "# print(' '.join(str(dic[m]) if m in dic else '0' for m in mlist))"
   ]
  },
  {
   "cell_type": "markdown",
   "id": "850e67f2",
   "metadata": {},
   "source": [
    "---"
   ]
  },
  {
   "cell_type": "markdown",
   "id": "496a1a96",
   "metadata": {},
   "source": [
    "---"
   ]
  },
  {
   "cell_type": "markdown",
   "id": "d79e25fa",
   "metadata": {},
   "source": [
    "- 주어진 문제에서 key값이 중복으로 줄수도 있음\n",
    "- 키 중복처리"
   ]
  },
  {
   "cell_type": "code",
   "execution_count": 15,
   "id": "561a7aaa",
   "metadata": {},
   "outputs": [
    {
     "name": "stdout",
     "output_type": "stream",
     "text": [
      "1\n",
      "1\n",
      "2\n",
      "1 1\n",
      "1\n"
     ]
    }
   ],
   "source": [
    "N = int(input())\n",
    "lst = list(map(int, input().split()))\n",
    "\n",
    "M = int(input())\n",
    "key = list(map(int, input().split()))\n",
    "\n",
    "dic = dict()\n",
    "\n",
    "for k in key:\n",
    "    \n",
    "    dic[k] = 0\n",
    "\n",
    "for n in lst:\n",
    "    \n",
    "    if n in dic.keys():\n",
    "        dic[n] += 1\n",
    "\n",
    "ans = list(dic.values())\n",
    "\n",
    "print(*ans)"
   ]
  },
  {
   "cell_type": "code",
   "execution_count": 14,
   "id": "68fdee10",
   "metadata": {},
   "outputs": [
    {
     "data": {
      "text/plain": [
       "{10: 3, 9: 0, -5: 0, 2: 1, 3: 2, 4: 0, 5: 0, -10: 2}"
      ]
     },
     "execution_count": 14,
     "metadata": {},
     "output_type": "execute_result"
    }
   ],
   "source": [
    "dic"
   ]
  }
 ],
 "metadata": {
  "kernelspec": {
   "display_name": "Python 3 (ipykernel)",
   "language": "python",
   "name": "python3"
  },
  "language_info": {
   "codemirror_mode": {
    "name": "ipython",
    "version": 3
   },
   "file_extension": ".py",
   "mimetype": "text/x-python",
   "name": "python",
   "nbconvert_exporter": "python",
   "pygments_lexer": "ipython3",
   "version": "3.8.16"
  },
  "toc": {
   "base_numbering": 1,
   "nav_menu": {},
   "number_sections": true,
   "sideBar": true,
   "skip_h1_title": false,
   "title_cell": "Table of Contents",
   "title_sidebar": "Contents",
   "toc_cell": false,
   "toc_position": {},
   "toc_section_display": true,
   "toc_window_display": false
  },
  "varInspector": {
   "cols": {
    "lenName": 16,
    "lenType": 16,
    "lenVar": 40
   },
   "kernels_config": {
    "python": {
     "delete_cmd_postfix": "",
     "delete_cmd_prefix": "del ",
     "library": "var_list.py",
     "varRefreshCmd": "print(var_dic_list())"
    },
    "r": {
     "delete_cmd_postfix": ") ",
     "delete_cmd_prefix": "rm(",
     "library": "var_list.r",
     "varRefreshCmd": "cat(var_dic_list()) "
    }
   },
   "types_to_exclude": [
    "module",
    "function",
    "builtin_function_or_method",
    "instance",
    "_Feature"
   ],
   "window_display": false
  }
 },
 "nbformat": 4,
 "nbformat_minor": 5
}
