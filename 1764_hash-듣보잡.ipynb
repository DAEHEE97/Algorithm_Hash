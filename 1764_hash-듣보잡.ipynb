{
 "cells": [
  {
   "cell_type": "markdown",
   "id": "d886b651",
   "metadata": {},
   "source": [
    "- dict 처리"
   ]
  },
  {
   "cell_type": "code",
   "execution_count": null,
   "id": "561a7aaa",
   "metadata": {},
   "outputs": [],
   "source": [
    "import sys\n",
    "\n",
    "def input():\n",
    "    return sys.stdin.readline().rstrip()\n",
    "\n",
    "\n",
    "N, M = map(int, input().split())\n",
    "\n",
    "dic = dict()\n",
    "\n",
    "for _ in range(N):\n",
    "    dic[input()] = 0\n",
    "    \n",
    "cnt = 0\n",
    "ans = []\n",
    "\n",
    "for _ in range(M):\n",
    "    \n",
    "    s = input()\n",
    "    \n",
    "    if s in dic:\n",
    "        ans.append(s)\n",
    "        cnt +=1\n",
    "        \n",
    "print(cnt)\n",
    "ans.sort()\n",
    "for s in ans:\n",
    "    print(s)\n",
    "    \n"
   ]
  },
  {
   "cell_type": "markdown",
   "id": "17ac0f6f",
   "metadata": {},
   "source": [
    "---"
   ]
  },
  {
   "cell_type": "markdown",
   "id": "7ca45fd0",
   "metadata": {},
   "source": [
    "- 교집합 &"
   ]
  },
  {
   "cell_type": "code",
   "execution_count": null,
   "id": "38deb56c",
   "metadata": {},
   "outputs": [],
   "source": [
    "import sys\n",
    "\n",
    "def input():\n",
    "    \n",
    "    return sys.stdin.readline().rstrip()\n",
    "\n",
    "\n",
    "N, M = map(int, input().split())\n",
    "\n",
    "sset_1 = set()\n",
    "sset_2 = set()\n",
    "\n",
    "for _ in range(N):\n",
    "    sset_1.add(input())\n",
    "    \n",
    "    \n",
    "for _ in range(M):\n",
    "    sset_2.add(input())\n",
    "\n",
    "lst = sorted(sset_1 & sset_2)\n",
    "\n",
    "\n",
    "print(len(lst))\n",
    "\n",
    "for s in lst:\n",
    "    print(s)"
   ]
  },
  {
   "cell_type": "markdown",
   "id": "0a9d410f",
   "metadata": {},
   "source": [
    "---"
   ]
  },
  {
   "cell_type": "markdown",
   "id": "37ac243c",
   "metadata": {},
   "source": [
    "- 교집합 intersection"
   ]
  },
  {
   "cell_type": "code",
   "execution_count": null,
   "id": "3391e784",
   "metadata": {},
   "outputs": [],
   "source": [
    "import sys\n",
    "\n",
    "def input():\n",
    "    \n",
    "    return sys.stdin.readline().rstrip()\n",
    "\n",
    "\n",
    "N, M = map(int, input().split())\n",
    "\n",
    "sset_1 = set()\n",
    "sset_2 = set()\n",
    "\n",
    "for _ in range(N):\n",
    "    sset_1.add(input())\n",
    "    \n",
    "    \n",
    "for _ in range(M):\n",
    "    sset_2.add(input())\n",
    "\n",
    "lst = sorted(sset_1.intersection(sset_2))\n",
    "\n",
    "\n",
    "print(len(lst))\n",
    "\n",
    "for s in lst:\n",
    "    print(s)"
   ]
  }
 ],
 "metadata": {
  "kernelspec": {
   "display_name": "Python 3 (ipykernel)",
   "language": "python",
   "name": "python3"
  },
  "language_info": {
   "codemirror_mode": {
    "name": "ipython",
    "version": 3
   },
   "file_extension": ".py",
   "mimetype": "text/x-python",
   "name": "python",
   "nbconvert_exporter": "python",
   "pygments_lexer": "ipython3",
   "version": "3.8.16"
  },
  "toc": {
   "base_numbering": 1,
   "nav_menu": {},
   "number_sections": true,
   "sideBar": true,
   "skip_h1_title": false,
   "title_cell": "Table of Contents",
   "title_sidebar": "Contents",
   "toc_cell": false,
   "toc_position": {},
   "toc_section_display": true,
   "toc_window_display": false
  },
  "varInspector": {
   "cols": {
    "lenName": 16,
    "lenType": 16,
    "lenVar": 40
   },
   "kernels_config": {
    "python": {
     "delete_cmd_postfix": "",
     "delete_cmd_prefix": "del ",
     "library": "var_list.py",
     "varRefreshCmd": "print(var_dic_list())"
    },
    "r": {
     "delete_cmd_postfix": ") ",
     "delete_cmd_prefix": "rm(",
     "library": "var_list.r",
     "varRefreshCmd": "cat(var_dic_list()) "
    }
   },
   "types_to_exclude": [
    "module",
    "function",
    "builtin_function_or_method",
    "instance",
    "_Feature"
   ],
   "window_display": false
  }
 },
 "nbformat": 4,
 "nbformat_minor": 5
}
