{
 "cells": [
  {
   "cell_type": "code",
   "execution_count": null,
   "id": "e15b349b",
   "metadata": {},
   "outputs": [],
   "source": [
    "N = int(input())\n",
    "\n",
    "dic = dict()\n",
    "\n",
    "cmd_dic = {\"enter\" : True, \"leave\" : False}\n",
    "\n",
    "for _ in range(N):\n",
    "    \n",
    "    name, cmd = input().split()\n",
    "    \n",
    "    dic[name] = cmd_dic[cmd]\n",
    "\n",
    "    \n",
    "\n",
    "    \n",
    "key_lst = sorted(dic.keys(),reverse=True)\n",
    "\n",
    "\n",
    "for key in key_lst:\n",
    "    \n",
    "    if(dic[key]):\n",
    "        \n",
    "        print(key)"
   ]
  },
  {
   "cell_type": "markdown",
   "id": "422e8023",
   "metadata": {},
   "source": [
    "---"
   ]
  },
  {
   "cell_type": "code",
   "execution_count": 9,
   "id": "1e4b931c",
   "metadata": {},
   "outputs": [],
   "source": [
    "# 중복 알아서 처리\n",
    "\n",
    "sset.add(1)"
   ]
  },
  {
   "cell_type": "code",
   "execution_count": 10,
   "id": "87d48d42",
   "metadata": {},
   "outputs": [
    {
     "ename": "KeyError",
     "evalue": "2",
     "output_type": "error",
     "traceback": [
      "\u001b[0;31m---------------------------------------------------------------------------\u001b[0m",
      "\u001b[0;31mKeyError\u001b[0m                                  Traceback (most recent call last)",
      "Cell \u001b[0;32mIn[10], line 1\u001b[0m\n\u001b[0;32m----> 1\u001b[0m \u001b[43msset\u001b[49m\u001b[38;5;241;43m.\u001b[39;49m\u001b[43mremove\u001b[49m\u001b[43m(\u001b[49m\u001b[38;5;241;43m2\u001b[39;49m\u001b[43m)\u001b[49m\n",
      "\u001b[0;31mKeyError\u001b[0m: 2"
     ]
    }
   ],
   "source": [
    "# 키값 존재 하지 안흥ㄹ시 KeyError 발생 \n",
    "\n",
    "sset.remove(2)"
   ]
  },
  {
   "cell_type": "markdown",
   "id": "5d180f70",
   "metadata": {},
   "source": [
    "---"
   ]
  },
  {
   "cell_type": "code",
   "execution_count": null,
   "id": "72469c83",
   "metadata": {},
   "outputs": [],
   "source": [
    "N = int(input())\n",
    "\n",
    "sset = set()\n",
    "\n",
    "for _ in range(N):\n",
    "    name, cmd = input().split()\n",
    "    \n",
    "    if cmd == \"enter\":\n",
    "        sset.add(name)\n",
    "    else:\n",
    "        sset.remove(name)\n",
    "        \n",
    "ans = sorted(sset, reverse=True)\n",
    "\n",
    "for s in ans:\n",
    "    print(s)\n",
    "    "
   ]
  },
  {
   "cell_type": "markdown",
   "id": "08a614d1",
   "metadata": {},
   "source": [
    "---"
   ]
  },
  {
   "cell_type": "code",
   "execution_count": 2,
   "id": "561a7aaa",
   "metadata": {},
   "outputs": [
    {
     "name": "stdout",
     "output_type": "stream",
     "text": [
      "4\n",
      "Baha enter\n",
      "Askar enter\n",
      "Baha leave\n",
      "Artem enter\n"
     ]
    }
   ],
   "source": [
    "N = int(input())\n",
    "\n",
    "\n",
    "dic = dict()\n",
    "\n",
    "\n",
    "for _ in range(N):\n",
    "    \n",
    "    name, cmd = input().split()\n",
    "    \n",
    "    if cmd == 'enter':\n",
    "        cmd = 1\n",
    "        \n",
    "    else:\n",
    "        cmd = 0\n",
    "        \n",
    "    dic[name] = cmd\n",
    "    \n",
    "    \n",
    "ans = [ key for key, value in dic.items() if value == 1 ]\n",
    "    \n",
    "ans.sort(reverse=True)\n",
    "\n",
    "print(ans)\n",
    "    "
   ]
  },
  {
   "cell_type": "code",
   "execution_count": 3,
   "id": "4e0571e0",
   "metadata": {},
   "outputs": [
    {
     "data": {
      "text/plain": [
       "{'Baha': 0, 'Askar': 1, 'Artem': 1}"
      ]
     },
     "execution_count": 3,
     "metadata": {},
     "output_type": "execute_result"
    }
   ],
   "source": [
    "dic"
   ]
  }
 ],
 "metadata": {
  "kernelspec": {
   "display_name": "Python 3 (ipykernel)",
   "language": "python",
   "name": "python3"
  },
  "language_info": {
   "codemirror_mode": {
    "name": "ipython",
    "version": 3
   },
   "file_extension": ".py",
   "mimetype": "text/x-python",
   "name": "python",
   "nbconvert_exporter": "python",
   "pygments_lexer": "ipython3",
   "version": "3.8.16"
  },
  "toc": {
   "base_numbering": 1,
   "nav_menu": {},
   "number_sections": true,
   "sideBar": true,
   "skip_h1_title": false,
   "title_cell": "Table of Contents",
   "title_sidebar": "Contents",
   "toc_cell": false,
   "toc_position": {},
   "toc_section_display": true,
   "toc_window_display": false
  },
  "varInspector": {
   "cols": {
    "lenName": 16,
    "lenType": 16,
    "lenVar": 40
   },
   "kernels_config": {
    "python": {
     "delete_cmd_postfix": "",
     "delete_cmd_prefix": "del ",
     "library": "var_list.py",
     "varRefreshCmd": "print(var_dic_list())"
    },
    "r": {
     "delete_cmd_postfix": ") ",
     "delete_cmd_prefix": "rm(",
     "library": "var_list.r",
     "varRefreshCmd": "cat(var_dic_list()) "
    }
   },
   "types_to_exclude": [
    "module",
    "function",
    "builtin_function_or_method",
    "instance",
    "_Feature"
   ],
   "window_display": false
  }
 },
 "nbformat": 4,
 "nbformat_minor": 5
}
