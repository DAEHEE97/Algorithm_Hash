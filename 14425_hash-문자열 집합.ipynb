{
 "cells": [
  {
   "cell_type": "markdown",
   "id": "394dda15",
   "metadata": {},
   "source": [
    "---"
   ]
  },
  {
   "cell_type": "markdown",
   "id": "37b39a0c",
   "metadata": {},
   "source": [
    "- dic"
   ]
  },
  {
   "cell_type": "code",
   "execution_count": null,
   "id": "6b116779",
   "metadata": {},
   "outputs": [],
   "source": [
    "# dic 입력후, 문자열 입력 받으면서 처리\n",
    "N, M = map(int, input().split())\n",
    "\n",
    "dic = dict()\n",
    "\n",
    "for _ in range(N):\n",
    "    dic[input()] = 0\n",
    "    \n",
    "    \n",
    "ans = 0\n",
    "for _ in range(M):\n",
    "    \n",
    "    if input() in dic:\n",
    "        ans += 1\n",
    "        \n",
    "print(ans)"
   ]
  },
  {
   "cell_type": "markdown",
   "id": "355d3d32",
   "metadata": {},
   "source": [
    "---"
   ]
  },
  {
   "cell_type": "markdown",
   "id": "5d1fa6e4",
   "metadata": {},
   "source": [
    "- set"
   ]
  },
  {
   "cell_type": "code",
   "execution_count": null,
   "id": "db0e07fe",
   "metadata": {},
   "outputs": [],
   "source": [
    "# set 입력후, \n",
    "\n",
    "N, M = map(int, input().split())\n",
    "\n",
    "\n",
    "sset = set( input() for _ in range(N) )\n",
    "\n",
    "    \n",
    "ans = 0\n",
    "for _ in range(M):\n",
    "    \n",
    "    if input() in sset:\n",
    "        ans += 1\n",
    "        \n",
    "print(ans)"
   ]
  },
  {
   "cell_type": "markdown",
   "id": "ed93ed35",
   "metadata": {},
   "source": [
    "---"
   ]
  },
  {
   "cell_type": "markdown",
   "id": "ffc57518",
   "metadata": {},
   "source": [
    "\n",
    "- 시간 오버"
   ]
  },
  {
   "cell_type": "code",
   "execution_count": 2,
   "id": "561a7aaa",
   "metadata": {},
   "outputs": [
    {
     "name": "stdout",
     "output_type": "stream",
     "text": [
      "1 3\n"
     ]
    }
   ],
   "source": [
    "# 선 입력 후 처리\n",
    "\n",
    "N, M = map(int, input().split())\n",
    "\n",
    "set_lst = [ input() for _ in range(N) ]\n",
    "\n",
    "lst = [ input() for _ in range(M) ]\n",
    "\n",
    "\n",
    "# 집합 내 문자열 확인\n",
    "\n",
    "ans = 0\n",
    "for s in lst:\n",
    "    \n",
    "    if s in set_lst:\n",
    "        \n",
    "        ans += 1\n",
    "        \n",
    "print(ans)"
   ]
  },
  {
   "cell_type": "code",
   "execution_count": 2,
   "id": "b642302f",
   "metadata": {},
   "outputs": [
    {
     "name": "stdout",
     "output_type": "stream",
     "text": [
      "1 3\n"
     ]
    }
   ],
   "source": [
    "\n",
    "N, M = map(int, input().split())\n",
    "\n",
    "set_lst = [ input() for _ in range(N) ]\n",
    "\n",
    "\n",
    "ans = 0\n",
    "\n",
    "for _ in range(M):\n",
    "    \n",
    "    \n",
    "    if input() in set_lst:\n",
    "        \n",
    "        ans += 1\n",
    "        \n",
    "print(ans)"
   ]
  },
  {
   "cell_type": "markdown",
   "id": "2f3d4d3f",
   "metadata": {},
   "source": [
    "---"
   ]
  },
  {
   "cell_type": "code",
   "execution_count": null,
   "id": "ade101b7",
   "metadata": {},
   "outputs": [],
   "source": [
    "# 문자열 내부 문자열 확인\n",
    "for s in lst:\n",
    "    \n",
    "    for string in set_lst:\n",
    "        \n",
    "        if s in string:\n",
    "            print(s)\n",
    "        "
   ]
  }
 ],
 "metadata": {
  "kernelspec": {
   "display_name": "Python 3 (ipykernel)",
   "language": "python",
   "name": "python3"
  },
  "language_info": {
   "codemirror_mode": {
    "name": "ipython",
    "version": 3
   },
   "file_extension": ".py",
   "mimetype": "text/x-python",
   "name": "python",
   "nbconvert_exporter": "python",
   "pygments_lexer": "ipython3",
   "version": "3.8.16"
  },
  "toc": {
   "base_numbering": 1,
   "nav_menu": {},
   "number_sections": true,
   "sideBar": true,
   "skip_h1_title": false,
   "title_cell": "Table of Contents",
   "title_sidebar": "Contents",
   "toc_cell": false,
   "toc_position": {},
   "toc_section_display": true,
   "toc_window_display": false
  },
  "varInspector": {
   "cols": {
    "lenName": 16,
    "lenType": 16,
    "lenVar": 40
   },
   "kernels_config": {
    "python": {
     "delete_cmd_postfix": "",
     "delete_cmd_prefix": "del ",
     "library": "var_list.py",
     "varRefreshCmd": "print(var_dic_list())"
    },
    "r": {
     "delete_cmd_postfix": ") ",
     "delete_cmd_prefix": "rm(",
     "library": "var_list.r",
     "varRefreshCmd": "cat(var_dic_list()) "
    }
   },
   "types_to_exclude": [
    "module",
    "function",
    "builtin_function_or_method",
    "instance",
    "_Feature"
   ],
   "window_display": false
  }
 },
 "nbformat": 4,
 "nbformat_minor": 5
}
